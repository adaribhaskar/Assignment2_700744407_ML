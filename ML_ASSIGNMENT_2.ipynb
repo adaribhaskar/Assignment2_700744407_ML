{
  "nbformat": 4,
  "nbformat_minor": 0,
  "metadata": {
    "colab": {
      "provenance": [],
      "authorship_tag": "ABX9TyP/Tq47+m8GaRrq6vL+IeeK",
      "include_colab_link": true
    },
    "kernelspec": {
      "name": "python3",
      "display_name": "Python 3"
    },
    "language_info": {
      "name": "python"
    }
  },
  "cells": [
    {
      "cell_type": "markdown",
      "metadata": {
        "id": "view-in-github",
        "colab_type": "text"
      },
      "source": [
        "<a href=\"https://colab.research.google.com/github/adaribhaskar/Assignment2_700744407_ML/blob/main/ML_ASSIGNMENT_2.ipynb\" target=\"_parent\"><img src=\"https://colab.research.google.com/assets/colab-badge.svg\" alt=\"Open In Colab\"/></a>"
      ]
    },
    {
      "cell_type": "markdown",
      "source": [
        "Question 1"
      ],
      "metadata": {
        "id": "dDQCKnR1a1qX"
      }
    },
    {
      "cell_type": "code",
      "execution_count": null,
      "metadata": {
        "colab": {
          "base_uri": "https://localhost:8080/"
        },
        "id": "pXEyQBuvawA2",
        "outputId": "8268f332-67ea-4c18-cc79-a7dc405ba88c"
      },
      "outputs": [
        {
          "output_type": "stream",
          "name": "stdout",
          "text": [
            "* \n",
            "* * \n",
            "* * * \n",
            "* * * * \n",
            "* * * * * \n",
            "* * * * \n",
            "* * * \n",
            "* * \n",
            "* \n"
          ]
        }
      ],
      "source": [
        "for i in range(1,10):\n",
        "  if i<=5:\n",
        "    print(\"* \"*i)\n",
        "  else:\n",
        "    print(\"* \"*(10-i))"
      ]
    },
    {
      "cell_type": "markdown",
      "source": [
        "Question 2"
      ],
      "metadata": {
        "id": "-lc4hzllcjxq"
      }
    },
    {
      "cell_type": "code",
      "source": [
        "my_list=[10,20,30,40,50,60,70,80,90,100]\n",
        "for i in range(len(my_list)):\n",
        "  if i%2==1:\n",
        "    print(my_list[i])"
      ],
      "metadata": {
        "colab": {
          "base_uri": "https://localhost:8080/"
        },
        "id": "wqWWOR2Ucll_",
        "outputId": "a8dc19a1-9bbf-4997-e61b-8a4af0c48cdb"
      },
      "execution_count": null,
      "outputs": [
        {
          "output_type": "stream",
          "name": "stdout",
          "text": [
            "20\n",
            "40\n",
            "60\n",
            "80\n",
            "100\n"
          ]
        }
      ]
    },
    {
      "cell_type": "markdown",
      "source": [
        "Question 3"
      ],
      "metadata": {
        "id": "OG-C4YggdJH1"
      }
    },
    {
      "cell_type": "code",
      "source": [
        "x=[23,\"Python\",23.98]\n",
        "list1=[]\n",
        "for i in range(len(x)):\n",
        "  list1.append(type(x[i]))\n",
        "print(list1)"
      ],
      "metadata": {
        "colab": {
          "base_uri": "https://localhost:8080/"
        },
        "id": "vvCFBududKgI",
        "outputId": "770a8e80-36ed-4484-9886-dfbe6d01fcf3"
      },
      "execution_count": null,
      "outputs": [
        {
          "output_type": "stream",
          "name": "stdout",
          "text": [
            "[<class 'int'>, <class 'str'>, <class 'float'>]\n"
          ]
        }
      ]
    },
    {
      "cell_type": "markdown",
      "source": [
        "Question 4"
      ],
      "metadata": {
        "id": "uhnpQYdreZkY"
      }
    },
    {
      "cell_type": "code",
      "source": [
        "l1=[1,2,3,3,3,3,4,5]\n",
        "l1=list(set(l1))\n",
        "l1.sort()\n",
        "print(l1)"
      ],
      "metadata": {
        "colab": {
          "base_uri": "https://localhost:8080/"
        },
        "id": "njxP0Qg8eW8E",
        "outputId": "ed393370-76de-4b2a-943d-146c4c7c6766"
      },
      "execution_count": null,
      "outputs": [
        {
          "output_type": "stream",
          "name": "stdout",
          "text": [
            "[1, 2, 3, 4, 5]\n"
          ]
        }
      ]
    },
    {
      "cell_type": "markdown",
      "source": [
        "Question 5"
      ],
      "metadata": {
        "id": "Btb9WiSSet_Z"
      }
    },
    {
      "cell_type": "code",
      "source": [
        "def upr_lwr(s1):\n",
        "  upr=0\n",
        "  lwr=0\n",
        "  s1=s1.replace(\" \",\"\")\n",
        "  for i in s1:\n",
        "    if ord(i) >=65 and ord(i)<=90:\n",
        "      upr+=1\n",
        "    else:\n",
        "      lwr+=1\n",
        "  print(\"No.of Upper-case characters\",upr)\n",
        "  print(\"No.of Lower-case characters\",lwr)\n",
        "    \n",
        "upr_lwr(\"The quick Brow Fox\")"
      ],
      "metadata": {
        "colab": {
          "base_uri": "https://localhost:8080/"
        },
        "id": "D0BNC0HRev93",
        "outputId": "592d1055-8345-46eb-c933-c34089d77c19"
      },
      "execution_count": null,
      "outputs": [
        {
          "output_type": "stream",
          "name": "stdout",
          "text": [
            "No.of Upper-case characters 3\n",
            "No.of Lower-case characters 12\n"
          ]
        }
      ]
    },
    {
      "cell_type": "code",
      "source": [
        "s=\"jhbdvjkfnjnfkjjkf\"\n",
        "print(s.replace(\" \",\"\"))"
      ],
      "metadata": {
        "colab": {
          "base_uri": "https://localhost:8080/"
        },
        "id": "FjWrzA2VgTKf",
        "outputId": "fcbbc69b-1239-4f82-93e7-5ca1d2715494"
      },
      "execution_count": null,
      "outputs": [
        {
          "output_type": "stream",
          "name": "stdout",
          "text": [
            "jhbdvjkfnjnfkjjkf\n"
          ]
        }
      ]
    },
    {
      "cell_type": "markdown",
      "source": [],
      "metadata": {
        "id": "R6VGWxpHa0WT"
      }
    }
  ]
}